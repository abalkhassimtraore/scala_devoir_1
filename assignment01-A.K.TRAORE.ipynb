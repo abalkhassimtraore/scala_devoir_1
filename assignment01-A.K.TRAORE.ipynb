{
 "cells": [
  {
   "cell_type": "markdown",
   "id": "6d0ec94e",
   "metadata": {},
   "source": [
    "# Definition de la fonction PGCD"
   ]
  },
  {
   "cell_type": "code",
   "execution_count": 1,
   "id": "fd9192cd",
   "metadata": {},
   "outputs": [
    {
     "data": {
      "text/plain": [
       "defined \u001b[32mfunction\u001b[39m \u001b[36mpgcd\u001b[39m"
      ]
     },
     "execution_count": 1,
     "metadata": {},
     "output_type": "execute_result"
    }
   ],
   "source": [
    "\n",
    "def pgcd(a: Int, b: Int): Int = {\n",
    "  if (b == 0) a\n",
    "  else pgcd(b, a % b)\n",
    "}"
   ]
  },
  {
   "cell_type": "markdown",
   "id": "28d99da2",
   "metadata": {},
   "source": [
    "### Test de la fonction avec les couples (28, 313)"
   ]
  },
  {
   "cell_type": "code",
   "execution_count": 3,
   "id": "43718bc4",
   "metadata": {},
   "outputs": [
    {
     "name": "stdout",
     "output_type": "stream",
     "text": [
      "Le PGCD DE (28,313) EST 1 "
     ]
    },
    {
     "data": {
      "text/plain": [
       "\u001b[36mx\u001b[39m: \u001b[32mInt\u001b[39m = \u001b[32m1\u001b[39m"
      ]
     },
     "execution_count": 3,
     "metadata": {},
     "output_type": "execute_result"
    }
   ],
   "source": [
    "val x=pgcd(28, 313)\n",
    "print(s\"Le PGCD DE (28,313) EST $x \")"
   ]
  },
  {
   "cell_type": "markdown",
   "id": "46fe2a91",
   "metadata": {},
   "source": [
    "### Tester la fonction avec les couples (64,40)"
   ]
  },
  {
   "cell_type": "code",
   "execution_count": 13,
   "id": "3d204c76",
   "metadata": {},
   "outputs": [
    {
     "name": "stdout",
     "output_type": "stream",
     "text": [
      "Le PGCD DE (64,40) EST 8 "
     ]
    },
    {
     "data": {
      "text/plain": [
       "\u001b[36my\u001b[39m: \u001b[32mInt\u001b[39m = \u001b[32m8\u001b[39m"
      ]
     },
     "execution_count": 13,
     "metadata": {},
     "output_type": "execute_result"
    }
   ],
   "source": [
    "val y=pgcd(64, 40)\n",
    "print(s\"Le PGCD DE (64,40) EST $y \")"
   ]
  },
  {
   "cell_type": "markdown",
   "id": "602d949e",
   "metadata": {},
   "source": [
    "# Definition de la fonction Fibonacci"
   ]
  },
  {
   "cell_type": "code",
   "execution_count": 2,
   "id": "a9dea787",
   "metadata": {},
   "outputs": [
    {
     "data": {
      "text/plain": [
       "defined \u001b[32mfunction\u001b[39m \u001b[36mfib\u001b[39m"
      ]
     },
     "execution_count": 2,
     "metadata": {},
     "output_type": "execute_result"
    }
   ],
   "source": [
    "def fib(n: Int): BigInt  = {\n",
    "  if (n <= 1) {\n",
    "    return n\n",
    "  }\n",
    "  \n",
    "  var previousFib:BigInt = 0\n",
    "  var currentFib:BigInt = 1\n",
    "  \n",
    "  for (i <- 2 to n) {\n",
    "    val nextFib:BigInt = previousFib + currentFib\n",
    "    previousFib = currentFib\n",
    "    currentFib = nextFib\n",
    "  }\n",
    "  \n",
    "  return currentFib\n",
    "}"
   ]
  },
  {
   "cell_type": "markdown",
   "id": "0cf3e7d5",
   "metadata": {},
   "source": [
    "### Test de la fonction fibonacci de maniere iterative avec les entiers 0, 1, 28, 40, 63 et 313"
   ]
  },
  {
   "cell_type": "code",
   "execution_count": 3,
   "id": "ee07f361",
   "metadata": {},
   "outputs": [
    {
     "name": "stdout",
     "output_type": "stream",
     "text": [
      "Le 0eme terme de la suite de fibonacci est 0\n",
      "Le 1eme terme de la suite de fibonacci est 1\n",
      "Le 28eme terme de la suite de fibonacci est317811\n",
      "Le 40eme terme de la suite de fibonacci est 102334155\n",
      "Le 63eme terme de la suite de fibonacci est 6557470319842\n",
      "Le 313eme terme de la suite de fibonacci est 115783425999770513860373944643635095356961600163955231274253486033\n"
     ]
    }
   ],
   "source": [
    "println(\"Le 0eme terme de la suite de fibonacci est \"+fib(0)) \n",
    "println(\"Le 1eme terme de la suite de fibonacci est \"+fib(1))\n",
    "println(\"Le 28eme terme de la suite de fibonacci est\"+fib(28)) \n",
    "println(\"Le 40eme terme de la suite de fibonacci est \"+fib(40)) \n",
    "println(\"Le 63eme terme de la suite de fibonacci est \"+fib(63)) \n",
    "println(\"Le 313eme terme de la suite de fibonacci est \"+fib(313))"
   ]
  },
  {
   "cell_type": "code",
   "execution_count": null,
   "id": "cb095934",
   "metadata": {},
   "outputs": [],
   "source": []
  }
 ],
 "metadata": {
  "kernelspec": {
   "display_name": "Scala",
   "language": "scala",
   "name": "scala"
  },
  "language_info": {
   "codemirror_mode": "text/x-scala",
   "file_extension": ".sc",
   "mimetype": "text/x-scala",
   "name": "scala",
   "nbconvert_exporter": "script",
   "version": "2.12.11"
  }
 },
 "nbformat": 4,
 "nbformat_minor": 5
}
