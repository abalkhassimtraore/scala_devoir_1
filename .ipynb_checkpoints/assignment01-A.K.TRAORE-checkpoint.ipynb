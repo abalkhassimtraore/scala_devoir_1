{
 "cells": [
  {
   "cell_type": "markdown",
   "id": "6d0ec94e",
   "metadata": {},
   "source": [
    "# Definition de la fonction PGCD"
   ]
  },
  {
   "cell_type": "code",
   "execution_count": 1,
   "id": "fd9192cd",
   "metadata": {
    "vscode": {
     "languageId": "python"
    }
   },
   "outputs": [
    {
     "data": {
      "text/plain": [
       "defined \u001b[32mfunction\u001b[39m \u001b[36mpgcd\u001b[39m"
      ]
     },
     "execution_count": 1,
     "metadata": {},
     "output_type": "execute_result"
    }
   ],
   "source": [
    "\n",
    "def pgcd(a: Int, b: Int): Int = {\n",
    "  if (b == 0) a else pgcd(b, a%b)\n",
    "}"
   ]
  },
  {
   "cell_type": "markdown",
   "id": "28d99da2",
   "metadata": {},
   "source": [
    "### Test de la fonction avec les couples (28, 313)"
   ]
  },
  {
   "cell_type": "code",
   "execution_count": 2,
   "id": "43718bc4",
   "metadata": {
    "vscode": {
     "languageId": "python"
    }
   },
   "outputs": [
    {
     "name": "stdout",
     "output_type": "stream",
     "text": [
      "Le PGCD DE (28,313) EST 1 "
     ]
    },
    {
     "data": {
      "text/plain": [
       "\u001b[36mx\u001b[39m: \u001b[32mInt\u001b[39m = \u001b[32m1\u001b[39m"
      ]
     },
     "execution_count": 2,
     "metadata": {},
     "output_type": "execute_result"
    }
   ],
   "source": [
    "val x=pgcd(28, 313)\n",
    "print(s\"Le PGCD DE (28,313) EST $x \")"
   ]
  },
  {
   "cell_type": "markdown",
   "id": "46fe2a91",
   "metadata": {},
   "source": [
    "### Tester la fonction avec les couples (64,40)"
   ]
  },
  {
   "cell_type": "code",
   "execution_count": 3,
   "id": "3d204c76",
   "metadata": {
    "vscode": {
     "languageId": "python"
    }
   },
   "outputs": [
    {
     "name": "stdout",
     "output_type": "stream",
     "text": [
      "Le PGCD DE (40,64) EST 8 "
     ]
    },
    {
     "data": {
      "text/plain": [
       "\u001b[36my\u001b[39m: \u001b[32mInt\u001b[39m = \u001b[32m8\u001b[39m"
      ]
     },
     "execution_count": 3,
     "metadata": {},
     "output_type": "execute_result"
    }
   ],
   "source": [
    "val y=pgcd(64, 40)\n",
    "print(s\"Le PGCD DE (40,64) EST $y \")"
   ]
  },
  {
   "cell_type": "markdown",
   "id": "602d949e",
   "metadata": {},
   "source": [
    "# Definition de la fonction Fibonacci"
   ]
  },
  {
   "cell_type": "code",
   "execution_count": 4,
   "id": "a9dea787",
   "metadata": {
    "vscode": {
     "languageId": "python"
    }
   },
   "outputs": [
    {
     "data": {
      "text/plain": [
       "defined \u001b[32mfunction\u001b[39m \u001b[36mfib\u001b[39m"
      ]
     },
     "execution_count": 4,
     "metadata": {},
     "output_type": "execute_result"
    }
   ],
   "source": [
    "def fib(n: Int): BigInt  = {\n",
    "  if (n <= 1) n\n",
    "  \n",
    "  var previousFib:BigInt = 0\n",
    "  var currentFib:BigInt = 1\n",
    "  \n",
    "  for (i <- 2 to n) {\n",
    "    val nextFib:BigInt = previousFib + currentFib\n",
    "    previousFib = currentFib\n",
    "    currentFib = nextFib\n",
    "  }\n",
    "  \n",
    "  return currentFib\n",
    "}"
   ]
  },
  {
   "cell_type": "markdown",
   "id": "0cf3e7d5",
   "metadata": {},
   "source": [
    "### Test de la fonction fibonacci de maniere iterative avec les entiers 0, 1, 28, 40, 63 et 313"
   ]
  },
  {
   "cell_type": "code",
   "execution_count": 5,
   "id": "ee07f361",
   "metadata": {
    "vscode": {
     "languageId": "python"
    }
   },
   "outputs": [
    {
     "name": "stdout",
     "output_type": "stream",
     "text": [
      "Le 0eme terme de la suite de fibonacci est 1\n",
      "Le 1eme terme de la suite de fibonacci est 1\n",
      "Le 28eme terme de la suite de fibonacci est 317811\n",
      "Le 40eme terme de la suite de fibonacci est 102334155\n",
      "Le 63eme terme de la suite de fibonacci est 6557470319842\n",
      "Le 313eme terme de la suite de fibonacci est 115783425999770513860373944643635095356961600163955231274253486033\n"
     ]
    }
   ],
   "source": [
    "println(\"Le 0eme terme de la suite de fibonacci est \"+fib(0)) \n",
    "println(\"Le 1eme terme de la suite de fibonacci est \"+fib(1))\n",
    "println(\"Le 28eme terme de la suite de fibonacci est \"+fib(28)) \n",
    "println(\"Le 40eme terme de la suite de fibonacci est \"+fib(40)) \n",
    "println(\"Le 63eme terme de la suite de fibonacci est \"+fib(63)) \n",
    "println(\"Le 313eme terme de la suite de fibonacci est \"+fib(313))"
   ]
  },
  {
   "cell_type": "markdown",
   "id": "a41d71f6",
   "metadata": {},
   "source": [
    "# Assignment 02"
   ]
  },
  {
   "cell_type": "markdown",
   "id": "1e7a33f2",
   "metadata": {},
   "source": [
    "## Exercice 1"
   ]
  },
  {
   "cell_type": "code",
   "execution_count": 14,
   "id": "296a2e14",
   "metadata": {
    "vscode": {
     "languageId": "python"
    }
   },
   "outputs": [
    {
     "data": {
      "text/plain": [
       "defined \u001b[32mfunction\u001b[39m \u001b[36mprefix\u001b[39m"
      ]
     },
     "execution_count": 14,
     "metadata": {},
     "output_type": "execute_result"
    }
   ],
   "source": [
    "//Definition de la fonction\n",
    "def prefix(s: String): String => String = s + \" \" + _"
   ]
  },
  {
   "cell_type": "code",
   "execution_count": 16,
   "id": "9b2a9ab4",
   "metadata": {},
   "outputs": [
    {
     "name": "stdout",
     "output_type": "stream",
     "text": [
      "Bonjour monde\r\n"
     ]
    },
    {
     "data": {
      "text/plain": [
       "\u001b[36mprefixSaisie\u001b[39m: \u001b[32mString\u001b[39m => \u001b[32mString\u001b[39m = ammonite.$sess.cmd13$Helper$$Lambda$2524/0x000000080141aef8@3ccf9bc5\r\n",
       "\u001b[36mresult\u001b[39m: \u001b[32mString\u001b[39m = \u001b[32m\"Bonjour monde\"\u001b[39m"
      ]
     },
     "execution_count": 16,
     "metadata": {},
     "output_type": "execute_result"
    }
   ],
   "source": [
    "//Appel de la fonction\n",
    "val prefixSaisie = prefix(\"Bonjour\")\n",
    "val result = prefixSaisie(\"monde\")\n",
    "println(result) // \"Bonjour monde\""
   ]
  },
  {
   "cell_type": "markdown",
   "id": "5fcadb83",
   "metadata": {},
   "source": [
    "## Exercice 2"
   ]
  },
  {
   "cell_type": "code",
   "execution_count": 17,
   "id": "0d8b8fa9",
   "metadata": {},
   "outputs": [
    {
     "data": {
      "text/plain": [
       "defined \u001b[32mfunction\u001b[39m \u001b[36misInList\u001b[39m"
      ]
     },
     "execution_count": 17,
     "metadata": {},
     "output_type": "execute_result"
    }
   ],
   "source": [
    "//Definition de la fonction\n",
    "def isInList(lst: List[Int]): Int => Boolean = lst.contains(_)"
   ]
  },
  {
   "cell_type": "code",
   "execution_count": 20,
   "id": "98e165f7",
   "metadata": {},
   "outputs": [
    {
     "name": "stdout",
     "output_type": "stream",
     "text": [
      "true\n",
      "false\n"
     ]
    },
    {
     "data": {
      "text/plain": [
       "\u001b[36mlist\u001b[39m: \u001b[32mList\u001b[39m[\u001b[32mInt\u001b[39m] = \u001b[33mList\u001b[39m(\u001b[32m11\u001b[39m, \u001b[32m24\u001b[39m, \u001b[32m34\u001b[39m, \u001b[32m44\u001b[39m, \u001b[32m85\u001b[39m, \u001b[32m945\u001b[39m, \u001b[32m5\u001b[39m, \u001b[32m74\u001b[39m, \u001b[32m621\u001b[39m, \u001b[32m2\u001b[39m)\r\n",
       "\u001b[36mcheckList\u001b[39m: \u001b[32mInt\u001b[39m => \u001b[32mBoolean\u001b[39m = ammonite.$sess.cmd16$Helper$$Lambda$2544/0x000000080142b380@2e3fd1a5"
      ]
     },
     "execution_count": 20,
     "metadata": {},
     "output_type": "execute_result"
    }
   ],
   "source": [
    "//Appel de la fonction\n",
    "val list = List(11, 24, 34, 44, 85,945,5,74,621,2)\n",
    "val checkList = isInList(list)\n",
    "\n",
    "println(checkList(85)) // true\n",
    "println(checkList(6)) // false"
   ]
  },
  {
   "cell_type": "markdown",
   "id": "7f8d2bcd",
   "metadata": {},
   "source": [
    "## Exercice 3"
   ]
  },
  {
   "cell_type": "code",
   "execution_count": 21,
   "id": "6315c6d9",
   "metadata": {},
   "outputs": [
    {
     "data": {
      "text/plain": [
       "defined \u001b[32mfunction\u001b[39m \u001b[36misInList\u001b[39m"
      ]
     },
     "execution_count": 21,
     "metadata": {},
     "output_type": "execute_result"
    }
   ],
   "source": [
    "//Definition de la fonction\n",
    "def isInList(lst: List[String]): String => Boolean = {\n",
    "  val set = lst.toSet // convertit la liste en un ensemble pour une recherche plus rapide\n",
    "  set.contains(_) // retourne une fonction anonyme qui vérifie si la chaîne est dans l'ensemble\n",
    "}"
   ]
  },
  {
   "cell_type": "code",
   "execution_count": 22,
   "id": "afe3f63b",
   "metadata": {},
   "outputs": [
    {
     "name": "stdout",
     "output_type": "stream",
     "text": [
      "true\n",
      "false\n"
     ]
    },
    {
     "data": {
      "text/plain": [
       "\u001b[36mlist\u001b[39m: \u001b[32mList\u001b[39m[\u001b[32mString\u001b[39m] = \u001b[33mList\u001b[39m(\n",
       "  \u001b[32m\"abal\"\u001b[39m,\n",
       "  \u001b[32m\"khassim\"\u001b[39m,\n",
       "  \u001b[32m\"modou\"\u001b[39m,\n",
       "  \u001b[32m\"fatou\"\u001b[39m,\n",
       "  \u001b[32m\"binta\"\u001b[39m,\n",
       "  \u001b[32m\"idy\"\u001b[39m,\n",
       "  \u001b[32m\"pathe\"\u001b[39m\n",
       ")\r\n",
       "\u001b[36mcheckList\u001b[39m: \u001b[32mString\u001b[39m => \u001b[32mBoolean\u001b[39m = ammonite.$sess.cmd20$Helper$$Lambda$2593/0x0000000801437548@5c2ca01b"
      ]
     },
     "execution_count": 22,
     "metadata": {},
     "output_type": "execute_result"
    }
   ],
   "source": [
    "//Appel de la fonction\n",
    "val list = List(\"abal\", \"khassim\", \"modou\", \"fatou\", \"binta\", \"idy\", \"pathe\")\n",
    "val checkList = isInList(list)\n",
    "\n",
    "println(checkList(\"binta\")) // true\n",
    "println(checkList(\"abdoulaye\")) // false"
   ]
  },
  {
   "cell_type": "code",
   "execution_count": null,
   "id": "aa61ce56",
   "metadata": {},
   "outputs": [],
   "source": []
  }
 ],
 "metadata": {
  "kernelspec": {
   "display_name": "Scala",
   "language": "scala",
   "name": "scala"
  },
  "language_info": {
   "codemirror_mode": "text/x-scala",
   "file_extension": ".sc",
   "mimetype": "text/x-scala",
   "name": "scala",
   "nbconvert_exporter": "script",
   "version": "2.12.11"
  }
 },
 "nbformat": 4,
 "nbformat_minor": 5
}
